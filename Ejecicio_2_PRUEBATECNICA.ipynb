{
  "nbformat": 4,
  "nbformat_minor": 0,
  "metadata": {
    "colab": {
      "provenance": [],
      "collapsed_sections": []
    },
    "kernelspec": {
      "name": "python3",
      "display_name": "Python 3"
    },
    "language_info": {
      "name": "python"
    }
  },
  "cells": [
    {
      "cell_type": "code",
      "source": [
        "# Ingreso de la informacion del equipo A\n",
        "\n",
        "#equipoA[] tamaño n = 5\n",
        "#equipoA = [2, 10, 5, 4, 8]\n",
        "#equipoB[] tamaño m = 4\n",
        "#equipoB = [3, 1, 7, 8]\n",
        "\n",
        "\n",
        "equipoA = []\n",
        "n = int(input(\"Ingresar la cantidad de partidos jugados por el equipoA: \"))\n",
        "while n>0:\n",
        "  dato = input(\"Ingresar los goles marcados por el equipoA : \")\n",
        "  equipoA.append(str(dato))\n",
        "  n-=1\n",
        "print(\"Contenido del equipoA:\\n\",equipoA)"
      ],
      "metadata": {
        "colab": {
          "base_uri": "https://localhost:8080/"
        },
        "id": "eerwL8OGOb0m",
        "outputId": "0bcdc403-096d-43c9-faf5-2aa1532f93de"
      },
      "execution_count": 169,
      "outputs": [
        {
          "output_type": "stream",
          "name": "stdout",
          "text": [
            "Ingresar la cantidad de partidos jugados por el equipoA: 5\n",
            "Ingresar los goles marcados por el equipoA : 2\n",
            "Ingresar los goles marcados por el equipoA : 10\n",
            "Ingresar los goles marcados por el equipoA : 5\n",
            "Ingresar los goles marcados por el equipoA : 4\n",
            "Ingresar los goles marcados por el equipoA : 8\n",
            "Contenido del equipoA:\n",
            " ['2', '10', '5', '4', '8']\n"
          ]
        }
      ]
    },
    {
      "cell_type": "code",
      "source": [
        "# Ingreso de la informacion del equipo B\n",
        "equipoB = []\n",
        "m = int(input(\"Ingresar la cantidad de partidos jugados por el equipoB: \"))\n",
        "while m>0:\n",
        "  dato = input(\"Ingresar los goles marcados por el equipoB : \")\n",
        "  equipoB.append(str(dato))\n",
        "  m-=1\n",
        "print(\"Contenido del equipoB:\\n\",equipoB)"
      ],
      "metadata": {
        "colab": {
          "base_uri": "https://localhost:8080/"
        },
        "id": "x4Isox2aQcUV",
        "outputId": "5b7ce37e-2f4c-484d-ebb1-895424efb7d9"
      },
      "execution_count": 170,
      "outputs": [
        {
          "output_type": "stream",
          "name": "stdout",
          "text": [
            "Ingresar la cantidad de partidos jugados por el equipoB: 4\n",
            "Ingresar los goles marcados por el equipoB : 3\n",
            "Ingresar los goles marcados por el equipoB : 1\n",
            "Ingresar los goles marcados por el equipoB : 7\n",
            "Ingresar los goles marcados por el equipoB : 8\n",
            "Contenido del equipoB:\n",
            " ['3', '1', '7', '8']\n"
          ]
        }
      ]
    },
    {
      "cell_type": "code",
      "source": [
        "# Validar el contenido de las listas de los\n",
        "print(equipoA)\n",
        "print(equipoB)\n"
      ],
      "metadata": {
        "colab": {
          "base_uri": "https://localhost:8080/"
        },
        "id": "756le5ZFPYKy",
        "outputId": "2cdda96c-d8bc-42ab-b355-204fa74825ab"
      },
      "execution_count": 171,
      "outputs": [
        {
          "output_type": "stream",
          "name": "stdout",
          "text": [
            "['2', '10', '5', '4', '8']\n",
            "['3', '1', '7', '8']\n"
          ]
        }
      ]
    },
    {
      "cell_type": "code",
      "source": [
        "\n",
        "valme=[]\n",
        "valeocu=[]\n",
        "\n",
        "\n",
        "for i in equipoA:\n",
        "    for j in equipoB:\n",
        "\n",
        "      \n",
        "        #print(f\"i vale {i} y j vale {j}\")\n",
        "        if i>=j: #and j not in valme:\n",
        "          \n",
        "          print(f\"Valor i {i}\")\n",
        "          print(f\"valoe j {j}\")    \n",
        "          valme.append(j)\n",
        "          print(f\"Valor valor menos es {j}\")\n",
        "          \n",
        "        else:\n",
        "          print(f\"el valor no es menor {valorocu}\")\n",
        "          \n",
        "     \n",
        "\n",
        "\n",
        "\n"
      ],
      "metadata": {
        "colab": {
          "base_uri": "https://localhost:8080/"
        },
        "id": "4UgC5j1gHH6g",
        "outputId": "124d03e0-d08b-4526-ae15-02f4589da6bb"
      },
      "execution_count": 172,
      "outputs": [
        {
          "output_type": "stream",
          "name": "stdout",
          "text": [
            "el valor no es menor [0, [2, 2, 5, 4, 2, 5, 4, 8]]\n",
            "Valor i 2\n",
            "valoe j 1\n",
            "Valor valor menos es 1\n",
            "el valor no es menor [0, [2, 2, 5, 4, 2, 5, 4, 8]]\n",
            "el valor no es menor [0, [2, 2, 5, 4, 2, 5, 4, 8]]\n",
            "el valor no es menor [0, [2, 2, 5, 4, 2, 5, 4, 8]]\n",
            "Valor i 10\n",
            "valoe j 1\n",
            "Valor valor menos es 1\n",
            "el valor no es menor [0, [2, 2, 5, 4, 2, 5, 4, 8]]\n",
            "el valor no es menor [0, [2, 2, 5, 4, 2, 5, 4, 8]]\n",
            "Valor i 5\n",
            "valoe j 3\n",
            "Valor valor menos es 3\n",
            "Valor i 5\n",
            "valoe j 1\n",
            "Valor valor menos es 1\n",
            "el valor no es menor [0, [2, 2, 5, 4, 2, 5, 4, 8]]\n",
            "el valor no es menor [0, [2, 2, 5, 4, 2, 5, 4, 8]]\n",
            "Valor i 4\n",
            "valoe j 3\n",
            "Valor valor menos es 3\n",
            "Valor i 4\n",
            "valoe j 1\n",
            "Valor valor menos es 1\n",
            "el valor no es menor [0, [2, 2, 5, 4, 2, 5, 4, 8]]\n",
            "el valor no es menor [0, [2, 2, 5, 4, 2, 5, 4, 8]]\n",
            "Valor i 8\n",
            "valoe j 3\n",
            "Valor valor menos es 3\n",
            "Valor i 8\n",
            "valoe j 1\n",
            "Valor valor menos es 1\n",
            "Valor i 8\n",
            "valoe j 7\n",
            "Valor valor menos es 7\n",
            "Valor i 8\n",
            "valoe j 8\n",
            "Valor valor menos es 8\n"
          ]
        }
      ]
    },
    {
      "cell_type": "code",
      "source": [
        "# Valores menores  por iteracion\n",
        "valme"
      ],
      "metadata": {
        "colab": {
          "base_uri": "https://localhost:8080/"
        },
        "id": "-sCX9OjuiQFu",
        "outputId": "cc06e180-3ac8-4263-a992-4d58f99e1634"
      },
      "execution_count": 173,
      "outputs": [
        {
          "output_type": "execute_result",
          "data": {
            "text/plain": [
              "['1', '1', '3', '1', '3', '1', '3', '1', '7', '8']"
            ]
          },
          "metadata": {},
          "execution_count": 173
        }
      ]
    }
  ]
}